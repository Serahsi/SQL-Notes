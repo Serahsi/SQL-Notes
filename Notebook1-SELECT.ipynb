{
    "metadata": {
        "kernelspec": {
            "name": "SQL",
            "display_name": "SQL",
            "language": "sql"
        },
        "language_info": {
            "name": "sql",
            "version": ""
        }
    },
    "nbformat_minor": 2,
    "nbformat": 4,
    "cells": [
        {
            "cell_type": "markdown",
            "source": [
                "# **<u><mark>SELECT STATEMENT</mark></u>**"
            ],
            "metadata": {
                "azdata_cell_guid": "f4613055-ba83-491e-a066-5d9935d45ac1"
            },
            "attachments": {}
        },
        {
            "cell_type": "markdown",
            "source": [
                "Used to retrieve/fetch/get data from database. We are retrieving data from the tables in our database.  \n",
                "Tables consist of columns and names. In a select statement we specify the column name and table name to fetch data.  \n",
                "It is a part of Data Query Language"
            ],
            "metadata": {
                "azdata_cell_guid": "4653f06e-95d8-4796-a11d-1b3772808b8f"
            },
            "attachments": {}
        },
        {
            "cell_type": "markdown",
            "source": [
                "<u>**Syntax**</u>  \n",
                "SELECT column\\_name  \n",
                "FROM table\\_name"
            ],
            "metadata": {
                "azdata_cell_guid": "92cc31d9-70a8-4d76-b437-a757ceff6c83"
            },
            "attachments": {}
        },
        {
            "cell_type": "markdown",
            "source": [
                "We are going to operate on [Microsoft's Northwind sample database.](https://github.com/Microsoft/sql-server-samples/tree/master/samples/databases/northwind-pubs)[](https://github.com/Microsoft/sql-server-samples/tree/master/samples/databases/northwind-pubs)"
            ],
            "metadata": {
                "azdata_cell_guid": "146daa3e-4fd2-46d4-b92d-70d8f65fe329"
            },
            "attachments": {}
        },
        {
            "cell_type": "code",
            "source": [
                "/* How to retrive ALL datas from a table */\n",
                "\n",
                "SELECT *\n",
                "FROM Northwind.dbo.Customers;\n",
                "\n",
                "-- It is important to emphasize on which database we are operating.\n",
                "-- We want to select data from Northwind database. If we are on master database or any database other than Northwind we have to specify the database name before table name.\n",
                "-- If we don't specify the database name we will get an error like below!\n",
                "\n",
                "SELECT *\n",
                "FROM Customers;\n",
                "\n",
                "-- If we are on Northwind database there is no need to specify the Northwind name in select statement.\n",
                "-- It is not obligatory to use semicolon at the end of queries in transact sql. We can avoid it.\n",
                "-- But in some other SQL types semicolon at the end is necessary!\n",
                "\n",
                "-- How to return ONE column from a table\n",
                "\n",
                "SELECT CompanyName\n",
                "FROM Northwind.dbo.Customers;\n",
                "\n",
                "-- How to retrieve MULTIPLE columns from a table\n",
                "\n",
                "SELECT CompanyName, ContactName\n",
                "FROM Northwind.dbo.Customers;\n",
                "\n",
                "-- How to retrieve datas up to a SPECIFIED ROW NUMBER\n",
                "\n",
                "SELECT TOP 11 *\n",
                "FROM Northwind.dbo.Customers;\n",
                "\n",
                "SELECT TOP 11 CompanyName\n",
                "FROM Northwind.dbo.Customers;\n",
                "\n",
                "-- How to retrieve datas up to a SPECIFIED PERCENTAGE\n",
                "-- SELECT TOP is especially useful when there are lots of data\n",
                "\n",
                "SELECT TOP 25 PERCENT *\n",
                "FROM Northwind.dbo.Customers;\n",
                "\n",
                "-- How to retrieve only DISTINCT/UNIQUE values within a column\n",
                "-- We use this when we want to avoid duplicate values\n",
                "\n",
                "SELECT City\n",
                "FROM Northwind.dbo.Customers;\n",
                "\n",
                "SELECT DISTINCT City\n",
                "FROM Northwind.dbo.Customers;\n",
                "\n",
                "-- What happens when we use DISTICNT keyword with multiple columns?\n",
                "-- return all the unique combinations of the entered columns\n",
                "\n",
                "SELECT DISTINCT City, PostalCode\n",
                "FROM Northwind.dbo.Customers;"
            ],
            "metadata": {
                "azdata_cell_guid": "c2b02860-a813-4f43-859c-625c82b9afdd",
                "language": "sql"
            },
            "outputs": [],
            "execution_count": null
        }
    ]
}
