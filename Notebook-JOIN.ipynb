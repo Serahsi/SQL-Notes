{
    "metadata": {
        "kernelspec": {
            "name": "SQL",
            "display_name": "SQL",
            "language": "sql"
        },
        "language_info": {
            "name": "sql",
            "version": ""
        }
    },
    "nbformat_minor": 2,
    "nbformat": 4,
    "cells": [
        {
            "cell_type": "markdown",
            "source": [
                "JOINS"
            ],
            "metadata": {
                "azdata_cell_guid": "3efd31a4-08fe-42da-97da-ce1d78c8c0f4"
            }
        },
        {
            "cell_type": "markdown",
            "source": [
                "It is possible to join/combine two or more tables in an SQL query"
            ],
            "metadata": {
                "azdata_cell_guid": "13b18ccc-dd34-4ff0-92e9-6b25659051eb"
            }
        },
        {
            "cell_type": "markdown",
            "source": [
                "For this we need a column that exists in both tables"
            ],
            "metadata": {
                "azdata_cell_guid": "ff6b1829-81e8-49dc-86dc-4e29d4099d2d"
            }
        },
        {
            "cell_type": "markdown",
            "source": [
                "We link tables by that common column"
            ],
            "metadata": {
                "azdata_cell_guid": "042a8af2-5f74-4f14-9b12-d3ae4309516d"
            }
        },
        {
            "cell_type": "code",
            "source": [
                "SELECT *\n",
                "FROM Northwind.dbo.Suppliers;\n",
                "\n",
                "SELECT *\n",
                "FROM Northwind.dbo.Products;\n",
                "\n",
                "-- Join Products table with Suppliers table by using SupplierID.\n",
                "\n",
                "SELECT *\n",
                "FROM Northwind.dbo.Products\n",
                "JOIN Northwind.dbo.Suppliers\n",
                "ON Products.SupplierID = Suppliers.SupplierID;\n",
                "\n",
                "-- Joining all the contents of two tables can give us a huge result\n",
                "-- We can specify the column names when joining\n",
                "\n",
                "-- Please bring products from Products table and their suppliers and the supplier's country from Supplier table.\n",
                "\n",
                "SELECT ProductName, CompanyName, Country\n",
                "FROM Northwind.dbo.Products\n",
                "JOIN Northwind.dbo.Suppliers\n",
                "ON Products.SupplierID = Suppliers.SupplierID;\n",
                "\n",
                "-- Order above query by company name\n",
                "\n",
                "SELECT ProductName, CompanyName, Country\n",
                "FROM Northwind.dbo.Products\n",
                "JOIN Northwind.dbo.Suppliers\n",
                "ON Products.SupplierID = Suppliers.SupplierID\n",
                "ORDER BY CompanyName;\n",
                "\n",
                "-- Please add SupplierID to the above query\n",
                "\n",
                "SELECT ProductName, SupplierID, CompanyName, Country\n",
                "FROM Northwind.dbo.Products\n",
                "JOIN Northwind.dbo.Suppliers\n",
                "ON Products.SupplierID = Suppliers.SupplierID\n",
                "ORDER BY CompanyName;\n",
                "\n",
                "-- SupplierID is the common column in both tables.\n",
                "-- When we don't specify from which table it is going to get it will give us an error!\n",
                "-- Correct the above query by specifying table name and order our query according to supplierID first, then product name.\n",
                "\n",
                "SELECT ProductName, Suppliers.SupplierID, CompanyName, Country\n",
                "FROM Northwind.dbo.Products\n",
                "JOIN Northwind.dbo.Suppliers\n",
                "ON Products.SupplierID = Suppliers.SupplierID\n",
                "ORDER BY SupplierID, ProductName;"
            ],
            "metadata": {
                "azdata_cell_guid": "caa96a61-9aee-4381-a1fb-696505cd029c",
                "language": "sql"
            },
            "outputs": [],
            "execution_count": null
        }
    ]
}