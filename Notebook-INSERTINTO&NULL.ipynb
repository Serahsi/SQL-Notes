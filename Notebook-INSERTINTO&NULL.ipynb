{
    "metadata": {
        "kernelspec": {
            "name": "SQL",
            "display_name": "SQL",
            "language": "sql"
        },
        "language_info": {
            "name": "sql",
            "version": ""
        }
    },
    "nbformat_minor": 2,
    "nbformat": 4,
    "cells": [
        {
            "cell_type": "markdown",
            "source": [
                "# **<u><mark>INSERT INTO STATEMENT and NULL VALUE</mark></u>**"
            ],
            "metadata": {
                "azdata_cell_guid": "ffb36f1a-883f-455e-b7bf-364d256ef23c"
            },
            "attachments": {}
        },
        {
            "cell_type": "markdown",
            "source": [
                "It is used to insert new data into an existing table"
            ],
            "metadata": {
                "azdata_cell_guid": "0a0b0540-9f3b-47b2-9f05-8baa9b59d379"
            }
        },
        {
            "cell_type": "markdown",
            "source": [
                "There are two empty tables in Northwind sample database, CustomerCustomerDemo and CustomerDemographics, we will work on them"
            ],
            "metadata": {
                "azdata_cell_guid": "038634fb-351a-45e8-a1bc-322264cdfda1"
            },
            "attachments": {}
        },
        {
            "cell_type": "code",
            "source": [
                "/* We can add data into ALL the COLUMNS of a table,\n",
                "Make sure the order of the new values are in the same order with the table columns and also data types are same */\n",
                "\n",
                "INSERT INTO Northwind.dbo.CustomerCustomerDemo\n",
                "VALUES ('ALFKI', 'EU'),\n",
                "('ANATR', 'NA'),\n",
                "('ANTON', 'NA'),\n",
                "('AROUT', 'EU'),\n",
                "('BERGS', 'EU');\n",
                "\n",
                "INSERT INTO Northwind.dbo.CustomerDemographics\n",
                "VALUES ('EU', 'Companies from Europe'),\n",
                "('NA', 'Companies from North America');\n",
                "\n",
                "SELECT *\n",
                "FROM Northwind.dbo.CustomerCustomerDemo\n",
                "\n",
                "SELECT *\n",
                "FROM Northwind.dbo.CustomerDemographics\n",
                "\n",
                "-- We can add data not to all columns but just to some columns\n",
                "-- we have to specify the column name after the table name for this\n",
                "\n",
                "INSERT INTO Northwind.dbo.CustomerDemographics(CustomerTypeID)\n",
                "VALUES ('AS');\n",
                "\n",
                "SELECT *\n",
                "FROM Northwind.dbo.CustomerDemographics\n",
                "\n",
                "-- Pay attention! CustomerDesc column for 'AS' is a NULL value due to we didn't add a value to this column\n",
                "\n",
                "-- NULL VALUE\n",
                "-- A field with NULL value means there is nothing in this field, it is empty\n",
                "-- A field 0 in it or a field with space is NOT NULL\n",
                "-- NULL value means when creating that record it is left blank\n",
                "-- Just as we did in CustomerDemographics table. When CustomerTypeID is 'AS', CusotmerDesc column is NULL\n",
                "-- Because we didn't enter a value for this column \n",
                "\n",
                "-- Insert some more values to CustomerCustomerDemo and CustomerDemographics table\n",
                "\n",
                "INSERT INTO Northwind.dbo.CustomerCustomerDemo\n",
                "VALUES ('BLAUS', 'EU'),\n",
                "('BLONP', 'EU'),\n",
                "('BOLID', 'EU'),\n",
                "('BONAP', 'EU'),\n",
                "('BOTTM', 'NA'),\n",
                "('BSBEV', 'EU'),\n",
                "('CACTU', 'SA');\n",
                "\n",
                "INSERT INTO Northwind.dbo.CustomerDemographics\n",
                "VALUES ('SA', 'Companies from South America');\n",
                "\n",
                "-- I cannot insert into CustomerCustomerDemo table a non existing customerid in customers table and a non existing customer type id in customer demographics table\n",
                "-- Becasue there is a foreign key constraint for each column, pay attention!\n",
                "\n",
                "INSERT INTO CustomerCustomerDemo\n",
                "VALUES ('xxxx', 'x');\n",
                "\n",
                "-- Pay attention! when I am on MASTER branch, if I insert data to a table WITHOUT specifying the database name it will not add data to my table in the database!\n",
                "\n",
                "INSERT INTO CustomerDemographics\n",
                "VALUES ('AF', 'Companies from Africa');\n",
                "\n",
                "SELECT *\n",
                "FROM Northwind.dbo.CustomerDemographics\n",
                "\n",
                "SELECT *\n",
                "FROM CustomerDemographics\n",
                "\n",
                "-- But if I choose Database Northwind and add a value without specifying database name it will add to my table in the database.\n",
                "\n",
                "INSERT INTO CustomerDemographics\n",
                "VALUES ('AF', 'Companies from Africa');\n",
                "\n",
                "SELECT *\n",
                "FROM Northwind.dbo.CustomerDemographics\n",
                "\n",
                "---------------------------------------------------\n",
                "-- How to retrieve the fields with NULL values?\n",
                "-- We use IS NULL for it\n",
                "\n",
                "SELECT *\n",
                "FROM Northwind.dbo.Customers\n",
                "WHERE Region is  NULL;\n",
                "\n",
                "-- To retrieve NOT NULL fields we use IS NOT NULL\n",
                "\n",
                "SELECT *\n",
                "FROM Northwind.dbo.Suppliers\n",
                "WHERE Region is not NULL;\n",
                "\n",
                "-- Can we use comparison operators for NULL values?\n",
                "\n",
                "SELECT *\n",
                "FROM Northwind.dbo.Suppliers\n",
                "WHERE Region = NULL;\n",
                "\n",
                "SELECT *\n",
                "FROM Northwind.dbo.Suppliers\n",
                "WHERE Region <> NULL;\n",
                "\n",
                "-- As you can see we can't use comparison operators for NULL values.\n",
                "-- Because NULL values are unknown values, they are not equal to something"
            ],
            "metadata": {
                "azdata_cell_guid": "6529a44f-0ba9-4592-996a-14a5d1957655",
                "language": "sql"
            },
            "outputs": [],
            "execution_count": null
        }
    ]
}