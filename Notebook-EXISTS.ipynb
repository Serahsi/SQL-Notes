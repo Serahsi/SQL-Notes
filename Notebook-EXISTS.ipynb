{
    "metadata": {
        "kernelspec": {
            "name": "SQL",
            "display_name": "SQL",
            "language": "sql"
        },
        "language_info": {
            "name": "sql",
            "version": ""
        }
    },
    "nbformat_minor": 2,
    "nbformat": 4,
    "cells": [
        {
            "cell_type": "markdown",
            "source": [
                "# **<u><mark>EXISTS Operator</mark></u>**"
            ],
            "metadata": {
                "azdata_cell_guid": "1f3fcf35-a6ef-4ece-8d41-35a9d7d71622"
            },
            "attachments": {}
        },
        {
            "cell_type": "markdown",
            "source": [
                "We use EXIST operator to check the existence of a value in a subquery"
            ],
            "metadata": {
                "azdata_cell_guid": "dd89c65e-782c-40ac-b7fe-bdf7499c567b"
            }
        },
        {
            "cell_type": "markdown",
            "source": [
                "The result of EXISTS operator is a BOOLEAN value: TRUE or FALSE"
            ],
            "metadata": {
                "azdata_cell_guid": "37316ed8-a823-4a31-888f-e0ea02f24bc2"
            }
        },
        {
            "cell_type": "markdown",
            "source": [
                "If the subquery returns us one or more records it means it is TRUE"
            ],
            "metadata": {
                "azdata_cell_guid": "2c03203a-9b54-4e06-b0e9-1102baedb7ee"
            }
        },
        {
            "cell_type": "code",
            "source": [
                "SELECT *\n",
                "FROM Northwind.dbo.Customers;\n",
                "\n",
                "SELECT *\n",
                "FROM Northwind.dbo.Orders;\n",
                "\n",
                "-- Bring customer information from Customers table who ordered at least one order.\n",
                "\n",
                "SELECT *\n",
                "FROM Northwind.dbo.Customers as cus\n",
                "WHERE EXISTS (SELECT CustomerID FROM Northwind.dbo.Orders as ord WHERE cus.CustomerID = ord.CustomerID);\n",
                "\n",
                "-- We can do the get the same result with IN operator\n",
                "\n",
                "SELECT *\n",
                "FROM Northwind.dbo.Customers as cus\n",
                "WHERE CustomerID IN (SELECT CustomerID FROM Northwind.dbo.Orders /*as ord WHERE cus.CustomerID = ord.CustomerID*/);\n",
                "\n",
                "-- IN operator doesn't need to connect two tables by a common column! Because it searchs for the specified values in the mentioned column.\n",
                "-- On the other hand, EXISTS operator need a WHERE clause and connect two tables by a common column.  \n",
                "\n",
                "-- Bring customer information from Customers table which didn't make any orders.\n",
                "\n",
                "SELECT *\n",
                "FROM Northwind.dbo.Customers as cus\n",
                "WHERE NOT EXISTS (SELECT CustomerID FROM Northwind.dbo.Orders as ord WHERE cus.CustomerID = ord.CustomerID);\n",
                "\n",
                "-- We don't need to specify column name for EXISTS operator\n",
                "-- For instance select all the columns instead of CustomerID\n",
                "\n",
                "SELECT *\n",
                "FROM Northwind.dbo.Customers as cus\n",
                "WHERE NOT EXISTS (SELECT * FROM Northwind.dbo.Orders as ord WHERE cus.CustomerID = ord.CustomerID);\n",
                "\n",
                "-- We can do the same query with NOT IN operator but we have to specify the column name.\n",
                "-- Because IN operator can't search all the columns!\n",
                "\n",
                "SELECT *\n",
                "FROM Northwind.dbo.Customers as cus\n",
                "WHERE CustomerID NOT IN (SELECT CustomerID FROM Northwind.dbo.Orders /*as ord WHERE cus.CustomerID = ord.CustomerID*/);\n",
                "\n",
                "-- Bring customer information from Customers table who ordered at least thirty orders.\n",
                "\n",
                "SELECT *\n",
                "FROM Northwind.dbo.Customers as cus\n",
                "WHERE EXISTS (SELECT CustomerID FROM Northwind.dbo.Orders as ord WHERE cus.CustomerID = ord.CustomerID GROUP BY CustomerID HAVING COUNT(OrderID) >= 30);\n",
                "\n",
                "-- Same result with IN operator again\n",
                "\n",
                "SELECT *\n",
                "FROM Northwind.dbo.Customers as cus\n",
                "WHERE CustomerID IN (SELECT CustomerID FROM Northwind.dbo.Orders /*as ord WHERE cus.CustomerID = ord.CustomerID*/ GROUP BY CustomerID HAVING COUNT(OrderID) >= 30);\n",
                "\n",
                "-- What is the difference between EXISTS and IN? \n",
                "-- IN operator doesn't produce a boolean result. IN operator needs a tuple to choose from.\n",
                "-- We specify the column name before IN operator which it will search for in the subquery.\n",
                "-- On the other hand EXISTS operator produces a BOOLEAN value.\n",
                "-- It operates on the matching columns. When there is a TRUE result EXISTS connects two tables on the common column. \n",
                "\n",
                "-- Bring information of employees who take orders more than 100.\n",
                "\n",
                "SELECT *\n",
                "FROM Northwind.dbo.Employees as e\n",
                "WHERE EXISTS (SELECT * FROM Northwind.dbo.Orders as o WHERE e.EmployeeID = o.EmployeeID GROUP BY EmployeeID HAVING COUNT(OrderID) > 100);\n",
                "\n",
                "-- Bring information of suppliers which offer more than 3 products\n",
                "\n",
                "SELECT *\n",
                "FROM Northwind.dbo.Suppliers as sup\n",
                "WHERE EXISTS (SELECT * FROM Northwind.dbo.Products as pro WHERE sup.SupplierID = pro.SupplierID GROUP BY SupplierID HAVING COUNT(ProductID) > 3);\n",
                "\n",
                "-- Is there any supplier which doesn't offer any product?\n",
                "\n",
                "SELECT *\n",
                "FROM Northwind.dbo.Suppliers as sup\n",
                "WHERE NOT EXISTS (SELECT * FROM Northwind.dbo.Products as pro WHERE sup.SupplierID = pro.SupplierID);"
            ],
            "metadata": {
                "azdata_cell_guid": "f131946a-3f56-461f-a7d6-cc10528ec4d4",
                "language": "sql"
            },
            "outputs": [],
            "execution_count": null
        }
    ]
}
