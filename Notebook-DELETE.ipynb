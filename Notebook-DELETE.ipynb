{
    "metadata": {
        "kernelspec": {
            "name": "SQL",
            "display_name": "SQL",
            "language": "sql"
        },
        "language_info": {
            "name": "sql",
            "version": ""
        }
    },
    "nbformat_minor": 2,
    "nbformat": 4,
    "cells": [
        {
            "cell_type": "markdown",
            "source": [
                "# **<mark>DELETE STATEMENT</mark>**"
            ],
            "metadata": {
                "azdata_cell_guid": "4e447ff0-31ba-4b02-b27c-21d328765993"
            },
            "attachments": {}
        },
        {
            "cell_type": "markdown",
            "source": [
                "It is used to delete exisiting data in a table"
            ],
            "metadata": {
                "azdata_cell_guid": "494812bf-f3da-4ba8-8cf2-b2271d760c75"
            }
        },
        {
            "cell_type": "code",
            "source": [
                "SELECT *\n",
                "FROM Northwind.dbo.CustomerDemographics;\n",
                "\n",
                "-- There is no company from Africa OR Asia in our Customers table\n",
                "-- So we can delete these rows\n",
                "\n",
                "DELETE FROM Northwind.dbo.CustomerDemographics\n",
                "WHERE CustomerTypeID = 'AF' OR CustomerTypeID = 'AS';\n",
                "\n",
                "SELECT *\n",
                "FROM Northwind.dbo.CustomerDemographics;\n",
                "\n",
                "-- Pay attention! We used a WHERE clause in order not to delete ALL the records\n",
                "\n",
                "-- To delete ALL records in a table\n",
                "-- table still exists but all data in it is deleted\n",
                "\n",
                "DELETE FROM TableName;\n",
                "\n",
                "-- To delete a table completely\n",
                "\n",
                "DROP TABLE Table_Name;"
            ],
            "metadata": {
                "azdata_cell_guid": "2481d041-e74a-449c-a5f7-162a52257289",
                "language": "sql"
            },
            "outputs": [],
            "execution_count": null
        }
    ]
}