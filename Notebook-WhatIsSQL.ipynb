{
    "metadata": {
        "kernelspec": {
            "name": "SQL",
            "display_name": "SQL",
            "language": "sql"
        },
        "language_info": {
            "name": "sql",
            "version": ""
        }
    },
    "nbformat_minor": 2,
    "nbformat": 4,
    "cells": [
        {
            "cell_type": "markdown",
            "source": [
                "# **<u><mark>WHAT IS SQL?</mark></u>**"
            ],
            "metadata": {
                "azdata_cell_guid": "3e607cee-f392-4ab4-a3d1-4060a09792ac"
            },
            "attachments": {}
        },
        {
            "cell_type": "markdown",
            "source": [
                "Structured Query Language (SQL)  \n",
                "Invented by IBM programmers in 1970s  \n",
                "Don Chamberlain and Ray Boyce are the inventors of SQL  \n",
                "It is a programming language  \n",
                "First standardized in 1986 by the American National Standards Institute (ANSI)\n",
                "\n",
                "What is SQL used for?  \n",
                "\\-It is a program about handling databases  \n",
                "\\-SQL is used for storing, manipulating and retrieving data from databases\n",
                "\n",
                "From the inventor's own words:  \n",
                "\"From the beginning, Sequel was intended to be used both for data manipulation (querying and updating data) and for data definition (creation of tables, views, and assertions)\"  \n",
                "\"SQL was designed to be used both as a stand-alone language for interactive queries and as an application development language for online transaction processing (OLTP).\"\n",
                "\n",
                "Based on Ted Codd's relational data model.  \n",
                "\\-Ted proposed arranging data based on meaningful relationships as tuples, or attribute-value pairs.  \n",
                "\\-Sets of tuples were referred to as relations, which ultimately enabled the merging of data across tables.\n",
                "\n",
                "What is a relational database?  \n",
                "\\--A relational database organizes data into rows and columns, which collectively form a table. Data is typically structured across multiple tables, which can be joined together by keys.  \n",
                "\\--Relational databases are also typically associated with transactional databases, which execute commands, or transactions, collectively.\n",
                "\n",
                "Before relational databases how was data stored?  \n",
                "\\-Before relational databases, companies used a hierarchical database system with a tree-like structure for the data tables.  \n",
                "\\-These early database management systems (DBMS) enabled users to organize large quantities of data.  \n",
                "\\-However, they were complex, often proprietary to a particular application, and limited in the ways in which they could uncover within the data.\n",
                "\n",
                "What is relational database management system (RDBMS)?  \n",
                "\\-An RDBMS is a database software that enables users to maintain relational databases.  \n",
                "\\-These programs allow users to create, update, insert, or delete data in the system, and they provide:  \n",
                "\\--Data Structure  \n",
                "\\--Multi-user Access  \n",
                "\\--Privilege Control  \n",
                "\\--Network Access\n",
                "\n",
                "What barriers did Don and Roy eliminate to make their program widespread?  \n",
                "\\-Don and Roy wanted to break two barriers to make a program about relational databases widespread. These are formal training in mathematics and formal training in computer programming\n",
                "\n",
                "Why did SQL became so popular?  \n",
                "\\-Ted Codd's breakthrough work in defining the relational data model  \n",
                "\\-Raising the level of abstraction with which users could interact with stored data  \n",
                "\\-Simple enough to learn easily  \n",
                "\\-Retrieve data from databases using only a few lines of code  \n",
                "\\-By combining query, update, and administrative tasks into a single language removed an important bottleneck, every user can work like a specialized database administrator\n",
                "\n",
                "Relational vs. Non-Relational Databaeses  \n",
                "\\-While relational databases structure data into a tabular format, non-relational databases do not have as rigid of a database schema.  \n",
                "\\-In fact, non-relational databases organize data differently based on the type of database.  \n",
                "\\-All non-relational databases aim to solve for the flexibility and scalability issues inherent in relational models which are not ideal for unstructured data formats, like text, video, and images.\n",
                "\n",
                "SQL is a declarative programming language not a procedural one. It describes what the user wants the computer to do rather than how the computer should do it.\n",
                "\n",
                "Further reading  \n",
                "[https://ieeexplore.ieee.org/document/6359709/authors#authors](https://ieeexplore.ieee.org/document/6359709/authors#authors)  \n",
                "[https://www.ibm.com/topics/relational-databases](https://www.ibm.com/topics/relational-databases)  \n",
                "[https://www.geeksforgeeks.org/what-is-sql/?ref=lbp](https://www.geeksforgeeks.org/what-is-sql/?ref=lbp)"
            ],
            "metadata": {
                "azdata_cell_guid": "738e3594-9920-450b-8e4c-da85db6090e0"
            },
            "attachments": {}
        }
    ]
}