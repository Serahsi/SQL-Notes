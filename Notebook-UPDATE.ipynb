{
    "metadata": {
        "kernelspec": {
            "name": "SQL",
            "display_name": "SQL",
            "language": "sql"
        },
        "language_info": {
            "name": "sql",
            "version": ""
        }
    },
    "nbformat_minor": 2,
    "nbformat": 4,
    "cells": [
        {
            "cell_type": "markdown",
            "source": [
                "UPDATE STATEMENT"
            ],
            "metadata": {
                "azdata_cell_guid": "a9e776e7-62c7-492a-85ed-e61f801d8658"
            }
        },
        {
            "cell_type": "markdown",
            "source": [
                "It is used to modify existing data in a table"
            ],
            "metadata": {
                "azdata_cell_guid": "a9b5ccb6-d78b-431d-98a1-199489c3b89e"
            }
        },
        {
            "cell_type": "code",
            "source": [
                "SELECT *\n",
                "FROM Northwind.dbo.CustomerDemographics;\n",
                "\n",
                "-- Let's update the NULL value in CustomerDemographics table\n",
                "\n",
                "UPDATE Northwind.dbo.CustomerDemographics\n",
                "SET CustomerDesc = 'Companies from Asia';\n",
                "\n",
                "SELECT *\n",
                "FROM Northwind.dbo.CustomerDemographics;\n",
                "\n",
                "-- Because we didn't add a where clause to our UPDATE statement all records are set to 'Companies from Asia'\n",
                "-- It is important to use UPDATE statement with WHERE clause in order not to update all te records\n",
                "-- Let's correct all the details\n",
                "\n",
                "UPDATE Northwind.dbo.CustomerDemographics\n",
                "SET CustomerDesc = 'Companies from Europe'\n",
                "WHERE CustomerTypeID = 'EU';\n",
                "\n",
                "UPDATE Northwind.dbo.CustomerDemographics\n",
                "SET CustomerDesc = 'Companies from North America'\n",
                "WHERE CustomerTypeID = 'NA';\n",
                "\n",
                "UPDATE Northwind.dbo.CustomerDemographics\n",
                "SET CustomerDesc = 'Companies from South America'\n",
                "WHERE CustomerTypeID = 'SA';\n",
                "\n",
                "UPDATE Northwind.dbo.CustomerDemographics\n",
                "SET CustomerDesc = 'Companies from Africa'\n",
                "WHERE CustomerTypeID = 'AF';\n",
                "\n",
                "SELECT *\n",
                "FROM Northwind.dbo.CustomerDemographics;\n",
                "\n",
                "-- Let's insert some more records to CustomerCustomerDemo table\n",
                "\n",
                "SELECT *\n",
                "FROM Northwind.dbo.CustomerCustomerDemo;\n",
                "\n",
                "SELECT CustomerID, Country\n",
                "FROM Northwind.dbo.Customers;\n",
                "\n",
                "-- Some correct values\n",
                "\n",
                "INSERT INTO Northwind.dbo.CustomerCustomerDemo VALUES\n",
                "('CENTC', 'SA'),\n",
                "('CHOPS', 'EU'),\n",
                "('COMMI', 'SA'),\n",
                "('CONSH', 'EU');\n",
                "\n",
                "-- Some wrong values\n",
                "\n",
                "INSERT INTO Northwind.dbo.CustomerCustomerDemo VALUES\n",
                "('DRACD', 'AF'),\n",
                "('DUMON', 'AS'),\n",
                "('EASTC', 'AS');\n",
                "\n",
                "-- Now UPDATE those wrong values\n",
                "\n",
                "UPDATE Northwind.dbo.CustomerCustomerDemo\n",
                "SET CustomerTypeID = 'EU'\n",
                "WHERE CustomerID = 'DRACD'\n",
                "AND CustomerID = 'DUMON'\n",
                "AND CustomerID = 'EASTC';\n",
                "\n",
                "-- Nothing changed because we used AND operator\n",
                "\n",
                "SELECT *\n",
                "FROM Northwind.dbo.CustomerCustomerDemo;\n",
                "\n",
                "-- If we use OR operator all the records will be updated as we want\n",
                "\n",
                "UPDATE Northwind.dbo.CustomerCustomerDemo\n",
                "SET CustomerTypeID = 'EU'\n",
                "WHERE CustomerID = 'DRACD'\n",
                "OR CustomerID = 'DUMON'\n",
                "OR CustomerID = 'EASTC';"
            ],
            "metadata": {
                "azdata_cell_guid": "7308aed7-4db8-452e-9207-b196d7ef04d3",
                "language": "sql"
            },
            "outputs": [],
            "execution_count": null
        }
    ]
}