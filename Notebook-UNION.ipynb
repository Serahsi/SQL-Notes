{
    "metadata": {
        "kernelspec": {
            "name": "SQL",
            "display_name": "SQL",
            "language": "sql"
        },
        "language_info": {
            "name": "sql",
            "version": ""
        }
    },
    "nbformat_minor": 2,
    "nbformat": 4,
    "cells": [
        {
            "cell_type": "markdown",
            "source": [
                "# **<u><mark>UNION Operator</mark></u>**"
            ],
            "metadata": {
                "azdata_cell_guid": "c4ebcefd-34e5-4cf4-a6e3-ecd250c4a5d3"
            },
            "attachments": {}
        },
        {
            "cell_type": "markdown",
            "source": [
                "It is used to combine the results of SELECT statements"
            ],
            "metadata": {
                "azdata_cell_guid": "f9fb0d41-a422-4b01-8e86-188ecdc4d2f3"
            }
        },
        {
            "cell_type": "markdown",
            "source": [
                "Column numbers must be equal and the matching columns must have a similar data type"
            ],
            "metadata": {
                "azdata_cell_guid": "3f18c3d8-f69a-46d2-8e7d-edf2dd8c1e1f"
            }
        },
        {
            "cell_type": "code",
            "source": [
                "SELECT *\n",
                "FROM Northwind.dbo.Customers;\n",
                "\n",
                "SELECT *\n",
                "FROM Northwind.dbo.Suppliers;\n",
                "\n",
                "-- Bring company names, contact names and contact titles from Customers and Suppliers tables\n",
                "\n",
                "SELECT CompanyName, ContactName, ContactTitle\n",
                "FROM Northwind.dbo.Customers\n",
                "UNION\n",
                "SELECT CompanyName, ContactName, ContactTitle\n",
                "FROM Northwind.dbo.Suppliers;\n",
                "\n",
                "-- Bring contact titles from Customers and Suppliers tables\n",
                "\n",
                "SELECT ContactTitle\n",
                "FROM Northwind.dbo.Customers\n",
                "UNION\n",
                "SELECT ContactTitle\n",
                "FROM Northwind.dbo.Suppliers;\n",
                "\n",
                "-- There are more than 20 values for contact title in both table. But UNION operator brings DISTINCT/UNIQUE values\n",
                "\n",
                "-- To bring ALL the records including duplicates, we must use UNION ALL operator\n",
                "\n",
                "SELECT ContactTitle\n",
                "FROM Northwind.dbo.Customers\n",
                "UNION ALL\n",
                "SELECT ContactTitle\n",
                "FROM Northwind.dbo.Suppliers;\n",
                "\n",
                "-- Can we combine more than two tables?\n",
                "\n",
                "-- Bring contact titles from Customers and Suppliers table and title from Employees table, only distinct ones.\n",
                "\n",
                "SELECT ContactTitle\n",
                "FROM Northwind.dbo.Customers\n",
                "UNION\n",
                "SELECT ContactTitle\n",
                "FROM Northwind.dbo.Suppliers\n",
                "UNION\n",
                "SELECT Title\n",
                "FROM Northwind.dbo.Employees;\n",
                "\n",
                "-- SQL returns us the first column name in UNION operators\n",
                "-- We can use aliases if we want to change the name\n",
                "\n",
                "SELECT ContactTitle as title\n",
                "FROM Northwind.dbo.Customers\n",
                "UNION\n",
                "SELECT ContactTitle\n",
                "FROM Northwind.dbo.Suppliers\n",
                "UNION\n",
                "SELECT Title\n",
                "FROM Northwind.dbo.Employees;\n",
                "\n",
                "-- We can use UNION operator with WHERE clause\n",
                "-- Bring names of company's from Brazil, their contact names and contact titles from Customers and Suppliers tables\n",
                "\n",
                "SELECT CompanyName, ContactName, ContactTitle\n",
                "FROM Northwind.dbo.Customers\n",
                "WHERE Country = 'Brazil'\n",
                "UNION\n",
                "SELECT CompanyName, ContactName, ContactTitle\n",
                "FROM Northwind.dbo.Suppliers\n",
                "WHERE Country = 'Brazil';\n",
                "\n",
                "-- Is there any same contact names in Customers and Suppliers tables? Find using UNION operator\n",
                "\n",
                "SELECT ContactName\n",
                "FROM Northwind.dbo.Customers\n",
                "UNION\n",
                "SELECT ContactName\n",
                "FROM Northwind.dbo.Suppliers;\n",
                "\n",
                "SELECT ContactName\n",
                "FROM Northwind.dbo.Customers\n",
                "UNION ALL\n",
                "SELECT ContactName\n",
                "FROM Northwind.dbo.Suppliers;\n",
                "\n",
                "-- For Union and Union All operator number of result is same: 120. There is no duplicate value so no same contact names.\n",
                "\n",
                "-- Did you notice UNION operator brings the result in an ascending order where UNION ALL operator preserves the order in tables!\n",
                "\n",
                "-- Bring distinct country, city value pairs from Customers and Suppliers tables\n",
                "\n",
                "SELECT Country, City\n",
                "FROM Northwind.dbo.Customers\n",
                "UNION\n",
                "SELECT Country, City\n",
                "FROM Northwind.dbo.Suppliers;\n",
                "\n",
                "-- Bring company name, country, city and phone values of the company's from USA, UK, Brazil and Mexico from the Customers and Suppliers tables\n",
                "-- And ORDER the result respectively by country, city and company name\n",
                "\n",
                "SELECT CompanyName, Country, City, Phone\n",
                "FROM Northwind.dbo.Customers\n",
                "WHERE Country IN ('USA', 'UK', 'Brazil', 'Mexico')\n",
                "UNION\n",
                "SELECT CompanyName, Country, City, Phone\n",
                "FROM Northwind.dbo.Suppliers\n",
                "WHERE Country IN ('USA', 'UK', 'Brazil', 'Mexico')\n",
                "ORDER BY Country, City, CompanyName;\n",
                "\n",
                "-- By default UNION operator ordered the result according to first column.\n",
                "-- To order the result according to another column we must add ORDER BY keyword at the end of query\n",
                "-- If we try to add ORDER BY keyword before UNION operator there will be incorrect syntax error\n",
                "\n",
                "-- Bring CustomerID or SupplierID as ID and Company name from Customers and Suppliers tables\n",
                "\n",
                "SELECT CustomerID as ID, CompanyName\n",
                "FROM Northwind.dbo.Customers\n",
                "UNION\n",
                "SELECT SupplierID, CompanyName\n",
                "FROM Northwind.dbo.Suppliers;\n",
                "\n",
                "-- Due to ID columns have different data types UNION operator gives error!\n",
                "\n",
                "-- Bring CompanyName, ContactName, ContactTitle with contact's surname ends with 'er' or 'en' from Customers and Suppliers tables\n",
                "-- Order the result according to Contact Title\n",
                "\n",
                "SELECT CompanyName, ContactName, ContactTitle\n",
                "FROM Northwind.dbo.Customers\n",
                "WHERE ContactName LIKE '%er' OR ContactName LIKE '%en'\n",
                "UNION\n",
                "SELECT CompanyName, ContactName, ContactTitle\n",
                "FROM Northwind.dbo.Suppliers\n",
                "WHERE ContactName LIKE '%er' OR ContactName LIKE '%en'\n",
                "ORDER BY ContactTitle;\n",
                ""
            ],
            "metadata": {
                "azdata_cell_guid": "35850e0f-decb-402d-b8ad-bf75c037e19b",
                "language": "sql"
            },
            "outputs": [],
            "execution_count": null
        },
        {
            "cell_type": "markdown",
            "source": [
                "<span style=\"color: #93a1a1;font-style: italic;\">-- UNION operator maybe useful when combining two similar tables from different times</span>\n",
                "\n",
                "<span style=\"color: #93a1a1;font-style: italic;\">-- Such as 2023 customers and 2022 customers</span>"
            ],
            "metadata": {
                "azdata_cell_guid": "767bac79-aabb-4053-963b-40edfb65e645"
            },
            "attachments": {}
        }
    ]
}