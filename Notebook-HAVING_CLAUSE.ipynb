{
    "metadata": {
        "kernelspec": {
            "name": "SQL",
            "display_name": "SQL",
            "language": "sql"
        },
        "language_info": {
            "name": "sql",
            "version": ""
        }
    },
    "nbformat_minor": 2,
    "nbformat": 4,
    "cells": [
        {
            "cell_type": "markdown",
            "source": [
                "# **<u><mark>HAVING CLAUSE</mark></u>**"
            ],
            "metadata": {
                "azdata_cell_guid": "c6e31bcc-9536-44b7-aa17-cd2154a75e05"
            },
            "attachments": {}
        },
        {
            "cell_type": "markdown",
            "source": [
                "It is used with only GROUP BY statement"
            ],
            "metadata": {
                "azdata_cell_guid": "3ae44fb0-df89-4951-8b7d-d250d14b3418"
            }
        },
        {
            "cell_type": "markdown",
            "source": [
                "In a Where clause we cannot use aggregate functions when there is a GROUP BY statement"
            ],
            "metadata": {
                "azdata_cell_guid": "3030b11e-99d8-42d3-ac19-9fa797b6b661"
            }
        },
        {
            "cell_type": "markdown",
            "source": [
                "We use HAVING clause instead of WHERE clause in these cases"
            ],
            "metadata": {
                "azdata_cell_guid": "065c73c4-c93e-40bd-80c9-074c9b05a37b"
            }
        },
        {
            "cell_type": "code",
            "source": [
                "SELECT *\n",
                "FROM Northwind.dbo.Orders;\n",
                "\n",
                "-- Find how many orders are taken by each employee, where number of orders are greater than 100, from Orders table.\n",
                "-- First try with where clause\n",
                "\n",
                "SELECT EmployeeID, COUNT(OrderID)\n",
                "FROM Northwind.dbo.Orders\n",
                "WHERE COUNT(OrderID) > 100\n",
                "GROUP BY EmployeeID;\n",
                "\n",
                "-- As we see we get an error when we use where clause with GROUP BY statement and aggregate functions\n",
                "-- Now try the same with HAVING clause and give an alias to count function, and order the result by with this alias with descending order\n",
                "\n",
                "SELECT EmployeeID, COUNT(OrderID) as NumberofOrders\n",
                "FROM Northwind.dbo.Orders\n",
                "GROUP BY EmployeeID\n",
                "HAVING COUNT(OrderID) > 100\n",
                "ORDER BY NumberofOrders DESC;\n",
                "\n",
                "-- Pay attention, we can't use an alias in HAVING clause!\n",
                "\n",
                "SELECT EmployeeID, COUNT(OrderID) as NumberofOrders\n",
                "FROM Northwind.dbo.Orders\n",
                "GROUP BY EmployeeID\n",
                "HAVING NumberofOrders > 100\n",
                "ORDER BY NumberofOrders;\n",
                "\n",
                "-- List the number of orders taken in the year 1996 by all the employees, with a descending order\n",
                "\n",
                "SELECT EmployeeID, COUNT(OrderID) as NumberofOrders\n",
                "FROM Northwind.dbo.Orders\n",
                "WHERE OrderDate BETWEEN '1996-01-01' AND '1996-12-31'\n",
                "GROUP BY EmployeeID\n",
                "ORDER BY NumberofOrders DESC;\n",
                "\n",
                "-- We use WHERE clause for adding conditions which don't include aggregate functions\n",
                "-- We can't use HAVING clause for non-aggregate conditions\n",
                "\n",
                "-- List the number of orders greater than 40 taken in the year 1997 according to employee ids, with a descending order\n",
                "\n",
                "SELECT EmployeeID, COUNT(OrderID) as NumberofOrders\n",
                "FROM Northwind.dbo.Orders\n",
                "WHERE OrderDate BETWEEN '1997-01-01' AND '1997-12-31'\n",
                "GROUP BY EmployeeID\n",
                "HAVING COUNT(OrderID) > 40\n",
                "ORDER BY NumberofOrders DESC;\n",
                "\n",
                "-- We can use WHERE and HAVING clauses in a query together, as we can see above\n",
                "\n",
                "-- List the number of orders greater than 250 shipped via each shipping id with a certain shipping date.\n",
                "-- Sort in descending order\n",
                "\n",
                "SELECT ShipVia, COUNT(OrderID) as NumberofOrders\n",
                "FROM Northwind.dbo.Orders\n",
                "WHERE ShippedDate IS NOT NULL\n",
                "GROUP BY ShipVia\n",
                "HAVING COUNT(OrderID) > 250\n",
                "ORDER BY NumberofOrders DESC;\n",
                "\n",
                "-- List the number of orders less than 50 shipped via each shipping COMPANY with an uncertain shipping date.\n",
                "-- Sort in descending order \n",
                "\n",
                "SELECT CompanyName, COUNT(OrderID) as NumberofOrders\n",
                "FROM Northwind.dbo.Orders as ord\n",
                "JOIN Northwind.dbo.Shippers as sh\n",
                "ON ord.ShipVia = sh.ShipperID\n",
                "WHERE ShippedDate IS NULL\n",
                "GROUP BY CompanyName\n",
                "HAVING COUNT(OrderID) < 50\n",
                "ORDER BY NumberofOrders DESC;\n",
                "\n",
                "-- List the number of orders greater than 40 taken in the years 1996, 1997, 1998 by all the employees, with a descending order.\n",
                "-- Bring the employee title, first name, last name as full name\n",
                "\n",
                "SELECT Title + ' ' + FirstName + ' ' + LastName as FullName, COUNT(OrderID) as NumberofOrders\n",
                "FROM Northwind.dbo.Orders as ord\n",
                "JOIN Northwind.dbo.Employees as emp\n",
                "ON ord.EmployeeID = emp.EmployeeID\n",
                "WHERE OrderDate BETWEEN '1996-01-01' AND '1998-12-31'\n",
                "GROUP BY Title + ' ' + FirstName + ' ' + LastName\n",
                "HAVING COUNT(OrderID) > 40\n",
                "ORDER BY NumberofOrders DESC;\n",
                "\n",
                "-- Bring maximum units in stock which are greater than 50 for each supplier id from Products table.\n",
                "-- Where quantity per unit includes 'glass' or 'bottle'\n",
                "\n",
                "SELECT SupplierID, MAX(UnitsInStock) as MaxUnitsInStock\n",
                "FROM Northwind.dbo.Products\n",
                "WHERE QuantityPerUnit LIKE '%glass%' OR QuantityPerUnit LIKE '%bottle%'\n",
                "GROUP BY SupplierID\n",
                "HAVING MAX(UnitsInStock) > 50;\n",
                "\n",
                "-- Bring average units on order which are greater than 0 for each supplier id from Products table.\n",
                "-- Where discontinued column is not 1\n",
                "-- Sort by average units on order ascendingly\n",
                "\n",
                "SELECT SupplierID, AVG(UnitsOnOrder) as AVGUnitOnOrder\n",
                "FROM Northwind.dbo.Products\n",
                "WHERE Discontinued <> 1\n",
                "GROUP BY SupplierID\n",
                "HAVING AVG(UnitsOnOrder) > 0\n",
                "ORDER BY AVGUnitOnOrder;\n",
                "\n",
                "-- Calculate total price of units on order greater than 0 for each supplier id.\n",
                "-- Sort by total price descending order\n",
                "\n",
                "SELECT SupplierID, SUM(UnitPrice * UnitsOnOrder) as TotalPriceofUnitsOnOrder\n",
                "FROM Northwind.dbo.Products\n",
                "GROUP BY SupplierID\n",
                "HAVING SUM(UnitPrice * UnitsOnOrder) > 0\n",
                "ORDER BY TotalPriceofUnitsOnOrder DESC;\n",
                "\n",
                "-- Calculate total price of units in stock greater than 0 for each supplier COMPANY.\n",
                "-- Sort by total price descending order\n",
                "\n",
                "SELECT CompanyName, SUM(UnitPrice * UnitsInStock) as TotalPriceofUnitsInStock\n",
                "FROM Northwind.dbo.Products as pro\n",
                "JOIN Northwind.dbo.Suppliers as sup\n",
                "ON pro.SupplierID = sup.SupplierID\n",
                "GROUP BY CompanyName\n",
                "HAVING SUM(UnitPrice * UnitsInStock) > 0\n",
                "ORDER BY TotalPriceofUnitsInStock DESC;"
            ],
            "metadata": {
                "azdata_cell_guid": "ec73e7d8-18b6-422e-b166-c67692eb094c",
                "language": "sql"
            },
            "outputs": [],
            "execution_count": null
        }
    ]
}
