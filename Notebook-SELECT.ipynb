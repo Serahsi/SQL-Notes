{
    "metadata": {
        "kernelspec": {
            "name": "SQL",
            "display_name": "SQL",
            "language": "sql"
        },
        "language_info": {
            "name": "sql",
            "version": ""
        }
    },
    "nbformat_minor": 2,
    "nbformat": 4,
    "cells": [
        {
            "cell_type": "markdown",
            "source": [
                "# **<u><mark>SELECT STATEMENT</mark></u>**"
            ],
            "metadata": {
                "azdata_cell_guid": "f4613055-ba83-491e-a066-5d9935d45ac1"
            },
            "attachments": {}
        },
        {
            "cell_type": "markdown",
            "source": [
                "Used to retrieve/fetch/get data from database"
            ],
            "metadata": {
                "azdata_cell_guid": "4653f06e-95d8-4796-a11d-1b3772808b8f"
            }
        },
        {
            "cell_type": "markdown",
            "source": [
                "It is a part of Data Query Language"
            ],
            "metadata": {
                "azdata_cell_guid": "54df19d0-c338-488a-b038-7e17f91d6557"
            }
        },
        {
            "cell_type": "code",
            "source": [
                "/* How to retrive ALL datas from a table */\n",
                "\n",
                "SELECT *\n",
                "FROM Northwind.dbo.Customers;\n",
                "\n",
                "-- How to return ONE column from a table\n",
                "\n",
                "SELECT CompanyName\n",
                "FROM Northwind.dbo.Customers;\n",
                "\n",
                "-- How to retrieve MULTIPLE columns from a table\n",
                "\n",
                "SELECT CompanyName, ContactName\n",
                "FROM Northwind.dbo.Customers;\n",
                "\n",
                "-- How to retrieve datas up to a SPECIFIED ROW NUMBER\n",
                "\n",
                "SELECT TOP 11 *\n",
                "FROM Northwind.dbo.Customers;\n",
                "\n",
                "SELECT TOP 11 CompanyName\n",
                "FROM Northwind.dbo.Customers;\n",
                "\n",
                "-- How to retrieve datas up to a SPECIFIED PERCENTAGE\n",
                "-- SELECT TOP is especially useful when there are lots of data\n",
                "\n",
                "SELECT TOP 25 PERCENT *\n",
                "FROM Northwind.dbo.Customers;\n",
                "\n",
                "-- How to retrieve only DISTINCT/UNIQUE values within a column\n",
                "-- When we want to avoid from duplicate\n",
                "\n",
                "SELECT City\n",
                "FROM Northwind.dbo.Customers;\n",
                "\n",
                "SELECT DISTINCT City\n",
                "FROM Northwind.dbo.Customers;\n",
                "\n",
                "-- What happens when we use DISTICNT keyword with multiple columns?\n",
                "-- return all the unique combinations of the entered columns\n",
                "\n",
                "SELECT DISTINCT City, PostalCode\n",
                "FROM Northwind.dbo.Customers;"
            ],
            "metadata": {
                "azdata_cell_guid": "c2b02860-a813-4f43-859c-625c82b9afdd",
                "language": "sql"
            },
            "outputs": [],
            "execution_count": null
        }
    ]
}