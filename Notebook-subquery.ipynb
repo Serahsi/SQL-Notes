{
    "metadata": {
        "kernelspec": {
            "name": "SQL",
            "display_name": "SQL",
            "language": "sql"
        },
        "language_info": {
            "name": "sql",
            "version": ""
        }
    },
    "nbformat_minor": 2,
    "nbformat": 4,
    "cells": [
        {
            "cell_type": "markdown",
            "source": [
                "# **<u><mark>SUBQUERY/INNER QUERY</mark></u>**"
            ],
            "metadata": {
                "azdata_cell_guid": "9eca7a91-f3d0-4049-8ad5-52b47ce122db"
            },
            "attachments": {}
        },
        {
            "cell_type": "markdown",
            "source": [
                "It is a query within another query"
            ],
            "metadata": {
                "azdata_cell_guid": "7b31495f-a2a8-4f76-a2e5-64a878603257"
            }
        },
        {
            "cell_type": "markdown",
            "source": [
                "It can be in a SELECT statement, FROM or WHERE clauses"
            ],
            "metadata": {
                "azdata_cell_guid": "6a4fdf76-ae5f-452c-aa42-fe7e1660e70f"
            },
            "attachments": {}
        },
        {
            "cell_type": "code",
            "source": [
                "SELECT *\n",
                "FROM Northwind.dbo.Products;\n",
                "\n",
                "-- SubQuery in a SELECT statement\n",
                "-- Bring Product Name, Unit Price and Average Unit Price from Products table \n",
                "\n",
                "SELECT ProductName, UnitPrice, (SELECT AVG(UnitPrice) FROM Northwind.dbo.Products) as AverageUnitPrice\n",
                "FROM Northwind.dbo.Products;\n",
                "\n",
                "-- We can't do the same thing without a subquery!\n",
                "\n",
                "SELECT ProductName, UnitPrice, AVG(UnitPrice)\n",
                "FROM Northwind.dbo.Products;\n",
                "\n",
                "-- Bring Product Name, UnitsInStock and total UnitsInStock from Products table\n",
                "-- Sort by UnitsInStock in descending order\n",
                "\n",
                "SELECT ProductName, UnitsInStock, (SELECT SUM(UnitsInStock) FROM Northwind.dbo.Products) as TotalUnitsInStock\n",
                "FROM Northwind.dbo.Products\n",
                "ORDER BY UnitsInStock DESC;\n",
                "\n",
                "-- SubQuery in a FROM clause\n",
                "-- We can put a select statement into a FROM clause and execute on it as a table\n",
                "\n",
                "-- First bring product name, unit price, units on order and total units on order from Products table\n",
                "-- Then put it into a FROM clause and bring ProductName, UnitPrice, UnitsOnOrder, TotalUnitsOnOrder\n",
                "-- Sort by descending order according to UnitsOnOrder\n",
                "\n",
                "SELECT ProductName, UnitPrice, UnitsOnOrder, TotalUnitsOnOrder\n",
                "FROM (SELECT ProductName, UnitPrice, UnitsOnOrder, (SELECT SUM(UnitsOnOrder) FROM Northwind.dbo.Products) as TotalUnitsOnOrder FROM Northwind.dbo.Products) as UnitOrder\n",
                "ORDER BY UnitsOnOrder DESC\n",
                "\n",
                "-- Pay attention, if we don't give an alias to the new table in FROM clause we get an error! \n",
                "\n",
                "-- Subquery in a FROM caluse with two tables\n",
                "\n",
                "-- Bring orderid's, and orderdate's of orders taken by employee Margaret Peacock writen her name on a column as EmployeeName.\n",
                "-- Use subquery in FROM clause\n",
                "\n",
                "SELECT OrderID, OrderDate, EmployeeName\n",
                "FROM (SELECT OrderID, OrderDate FROM Northwind.dbo.Orders WHERE EmployeeID = 4) as ord, (SELECT FirstName + ' ' + LastName as EmployeeName FROM Northwind.dbo.Employees WHERE EmployeeID = 4) as emp\n",
                "\n",
                "-- Subquery in a FROM caluse with three tables\n",
                "\n",
                "-- Bring products from products table with the supplier 'Specialty Biscuits, Ltd.' from Suppliers table and with the category 'confections' from the Categories table \n",
                "\n",
                "SELECT ProductName, CompanyName, CategoryName\n",
                "FROM (SELECT ProductName FROM Northwind.dbo.Products WHERE SUpplierID = 8 and CategoryID = 3) as pro, \n",
                "(SELECT CompanyName FROM Northwind.dbo.Suppliers WHERE SupplierID = 8) as sup, \n",
                "(SELECT CategoryName FROM Northwind.dbo.Categories WHERE CategoryID = 3) as cat\n",
                "\n",
                "-- SubQuery in a WHERE Clause\n",
                "-- We can benefit a condition from another table without using JOIN by subqueries in a WHERE Clause \n",
                "\n",
                "-- Bring the order id, order date and customer id of orders made by customers from Brazil\n",
                " \n",
                "SELECT OrderId, OrderDate, CustomerID \n",
                "FROM Northwind.dbo.Orders\n",
                "WHERE CustomerID IN (SELECT CustomerID FROM Northwind.dbo.Customers WHERE Country = 'Brazil');\n",
                "\n",
                "-- In the Orders table we cannot find a data about country but we can find it in Customers table\n",
                "-- CustomerId is a common column in both tables\n",
                "-- By making a subquery looking for the CustomerID's from Brazil we can combine a condition from another table to Orders table\n",
                "\n",
                "-- Bring the order id and shipping date of orders that are made by customers whose contact name includes 'tt'\n",
                "\n",
                "SELECT OrderID, ShippedDate\n",
                "FROM Northwind.dbo.Orders\n",
                "WHERE CustomerID IN (SELECT CustomerID FROM Northwind.dbo.Customers WHERE ContactName LIKE '%tt%');\n",
                "\n",
                "-- Bring products and their supplierid, unitprice, unitsinstock, unitsonorder and reorderlevel whose suppliers are from the cities Tokyo and Signapore\n",
                "\n",
                "SELECT ProductName, SupplierID, UnitPrice, UnitsInStock, UnitsOnOrder, ReorderLevel\n",
                "FROM Northwind.dbo.Products\n",
                "WHERE SupplierID IN (SELECT SupplierId FROM Northwind.Dbo.Suppliers WHERE City IN ('Tokyo', 'Singapore'));"
            ],
            "metadata": {
                "azdata_cell_guid": "0ad3416d-99a3-42b3-9a6e-da464b04672f",
                "language": "sql"
            },
            "outputs": [],
            "execution_count": null
        }
    ]
}