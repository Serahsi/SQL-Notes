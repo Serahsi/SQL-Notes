{
    "metadata": {
        "kernelspec": {
            "name": "SQL",
            "display_name": "SQL",
            "language": "sql"
        },
        "language_info": {
            "name": "sql",
            "version": ""
        }
    },
    "nbformat_minor": 2,
    "nbformat": 4,
    "cells": [
        {
            "cell_type": "markdown",
            "source": [
                "# **<u><mark>ORDER BY Keyword</mark></u>**"
            ],
            "metadata": {
                "azdata_cell_guid": "5679f019-f760-4b19-99a2-7de70c2adfbe"
            },
            "attachments": {}
        },
        {
            "cell_type": "markdown",
            "source": [
                "It is used to sort results"
            ],
            "metadata": {
                "azdata_cell_guid": "21c38dc3-27ea-4b40-bd7a-27e2d2569692"
            }
        },
        {
            "cell_type": "code",
            "source": [
                "SELECT *\n",
                "FROM Products\n",
                "ORDER BY UnitsOnOrder;\n",
                "\n",
                "-- By default SQL sorts ascending order\n",
                "-- To sort descending order we add a DESC keyword at the end\n",
                "\n",
                "SELECT *\n",
                "FROM Products\n",
                "ORDER BY UnitsOnOrder DESC;\n",
                "\n",
                "-- We can use Order By with STRING values\n",
                "-- It sorts alphabetically\n",
                "\n",
                "SELECT *\n",
                "FROM Products\n",
                "ORDER BY ProductName;\n",
                "\n",
                "SELECT *\n",
                "FROM Products\n",
                "ORDER BY ProductName DESC;\n",
                "\n",
                "-- Is it possible to sort by MULTIPLE columns?\n",
                "\n",
                "SELECT *\n",
                "FROM Products\n",
                "ORDER BY CategoryId DESC, ProductName ASC;\n",
                "\n",
                "-- First it orders by CategoryId and then for the same CategoryId products it sorts by ProductName\n",
                "\n",
                "-- We can use NUMBER of columns instead of column names\n",
                "\n",
                "SELECT *\n",
                "FROM Products\n",
                "ORDER BY CategoryId, SupplierID, ProductName;\n",
                "\n",
                "SELECT *\n",
                "FROM Products\n",
                "ORDER BY 4, 3, 2;\n",
                "\n",
                "-- We can add a WHERE Clause with Order By\n",
                "\n",
                "SELECT *\n",
                "FROM Products\n",
                "WHERE CategoryID < 3\n",
                "ORDER BY CategoryId, SupplierID, ProductName;\n",
                "\n",
                "SELECT *\n",
                "FROM Products\n",
                "WHERE CategoryID < 3\n",
                "ORDER BY 4, 3, 2;\n",
                "\n",
                "-- What if we add where clause to the end?\n",
                "-- The ORDER BY clause must come after the WHERE, GROUP BY or HAVING clauses if they are present in the query.\n",
                "\n",
                "SELECT *\n",
                "FROM Products\n",
                "ORDER BY 4, 3, 2\n",
                "--WHERE CategoryID < 3;\n",
                "\n",
                "-- We can use Order By with SELECT TOP\n",
                "\n",
                "SELECT TOP 10 *\n",
                "FROM Products\n",
                "ORDER BY UnitPrice DESC;"
            ],
            "metadata": {
                "azdata_cell_guid": "a2866205-c74e-43ed-beb6-0a10b60992b0",
                "language": "sql"
            },
            "outputs": [],
            "execution_count": null
        }
    ]
}