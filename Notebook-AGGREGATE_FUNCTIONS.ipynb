{
    "metadata": {
        "kernelspec": {
            "name": "SQL",
            "display_name": "SQL",
            "language": "sql"
        },
        "language_info": {
            "name": "sql",
            "version": ""
        }
    },
    "nbformat_minor": 2,
    "nbformat": 4,
    "cells": [
        {
            "cell_type": "markdown",
            "source": [
                "AGGREGATE FUNCTIONS"
            ],
            "metadata": {
                "azdata_cell_guid": "212d381b-e0e2-4fe7-94da-d32d378fec6e"
            }
        },
        {
            "cell_type": "code",
            "source": [
                "SELECT MAX(UnitsInStock)\n",
                "FROM Northwind.dbo.Products\n",
                "\n",
                "SELECT MIN(UnitsOnOrder)\n",
                "FROM Northwind.dbo.Products"
            ],
            "metadata": {
                "azdata_cell_guid": "0a1b08cd-15ff-434f-a94e-af2908bcef03",
                "language": "sql"
            },
            "outputs": [],
            "execution_count": null
        }
    ]
}