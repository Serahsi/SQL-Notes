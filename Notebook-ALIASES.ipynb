{
    "metadata": {
        "kernelspec": {
            "name": "SQL",
            "display_name": "SQL",
            "language": "sql"
        },
        "language_info": {
            "name": "sql",
            "version": ""
        }
    },
    "nbformat_minor": 2,
    "nbformat": 4,
    "cells": [
        {
            "cell_type": "markdown",
            "source": [
                "# **<u><mark>ALIASES</mark></u>**"
            ],
            "metadata": {
                "azdata_cell_guid": "d83e07fa-734a-4a68-9b9c-d2046e7ef0c1"
            },
            "attachments": {}
        },
        {
            "cell_type": "markdown",
            "source": [
                "We can give a temporary name to our results by using aliases"
            ],
            "metadata": {
                "azdata_cell_guid": "e8d5eb53-1b92-4865-a4c6-89f354b3fe5a"
            }
        },
        {
            "cell_type": "markdown",
            "source": [
                "It makes our results more understandable/readable"
            ],
            "metadata": {
                "azdata_cell_guid": "2a3523a4-6535-4ee8-9cba-1bc2dcab129b"
            }
        },
        {
            "cell_type": "markdown",
            "source": [
                "AS keyword is used to make aliases"
            ],
            "metadata": {
                "azdata_cell_guid": "08d60f8c-53fc-4538-a15a-1ebeccbda7eb"
            }
        },
        {
            "cell_type": "code",
            "source": [
                "SELECT *\n",
                "FROM Northwind.dbo.Products;\n",
                "\n",
                "-- Bring the number of products that belongs to CategoryID 1 and use an alias for the result\n",
                "\n",
                "SELECT COUNT(ProductID) AS CountCategory1\n",
                "FROM Northwind.dbo.Products\n",
                "WHERE CategoryID = 1;\n",
                "\n",
                "-- What is total units in stock from Products table? Use an alias for the result\n",
                "\n",
                "SELECT SUM(UnitsInStock) AS TotalUnitsINSTOCK\n",
                "FROM Northwind.dbo.Products;\n",
                "\n",
                "-- What is average unit price of products where reorder level is greater than 0, from Products table? \n",
                "-- Use an alias for the result to make result more understandable.\n",
                "\n",
                "SELECT AVG(UnitPrice) AS AverageUnitPrice\n",
                "FROM Northwind.dbo.Products\n",
                "WHERE ReorderLevel > 0;\n",
                "\n",
                "-- AS keyword is not obligatory when we are making aliases\n",
                "\n",
                "SELECT SUM(UnitPrice) TotalUnitPrice, AVG(UnitPrice) AverageUnitPrice\n",
                "FROM Northwind.dbo.Products;\n",
                "\n",
                "-- Can we make an alias with SPACE character?\n",
                "-- For this we have to use BRACKETS or DOUBLE QUOTES\n",
                "\n",
                "-- What is the number of products from SupplierID 2?\n",
                "-- Use an alias including space\n",
                "\n",
                "SELECT COUNT(ProductID) AS \"Number of Products from Supplier2\"\n",
                "FROM Northwind.dbo.Products\n",
                "WHERE SupplierID = 2;\n",
                "\n",
                "-- What is the number of products from SupplierID 4?\n",
                "-- Use an alias including space\n",
                "\n",
                "SELECT COUNT(ProductID) AS [Number of Products from Supplier4]\n",
                "FROM Northwind.dbo.Products\n",
                "WHERE SupplierID = 4;\n",
                "\n",
                "-- Is it possible to CONCATANATE columns?\n",
                "\n",
                "SELECT *\n",
                "FROM Northwind.dbo.Employees;\n",
                "\n",
                "-- Please bring title of courtesy, firstname and lastname together under \"Employee Name\", from Employee Table\n",
                "\n",
                "SELECT TitleOfCourtesy + ' ' + FirstName + ' ' + LastName AS \"Employee Name\"\n",
                "FROM Northwind.dbo.Employees;\n",
                "\n",
                "-- Add another column to above query and bring all the columns about address in an \"Address\" column\n",
                "\n",
                "SELECT TitleOfCourtesy + ' ' + FirstName + ' ' + LastName AS \"Employee Name\", Address + ' ' + City + ' ' + Region + ' ' + PostalCode + ' ' + Country AS Address\n",
                "FROM Northwind.dbo.Employees;\n",
                "\n",
                "-- If you added region column to concatenate address, the result will be NULL in some fields\n",
                "-- Concatenating a field with NULL value is not possible\n",
                "\n",
                "SELECT TitleOfCourtesy + ' ' + FirstName + ' ' + LastName AS \"Employee Name\", Address + ' ' + City + ' ' + PostalCode + ' ' + Country AS Address\n",
                "FROM Northwind.dbo.Employees;"
            ],
            "metadata": {
                "azdata_cell_guid": "5dcf2229-c3b9-4e15-834e-b13c3efd0175",
                "language": "sql"
            },
            "outputs": [],
            "execution_count": null
        },
        {
            "cell_type": "markdown",
            "source": [
                "It is also possible to give an alias to a table"
            ],
            "metadata": {
                "azdata_cell_guid": "6a25a783-aced-4e7d-ac6c-c6694efd334c"
            }
        },
        {
            "cell_type": "markdown",
            "source": [
                "It will be better to dive into it with JOINS"
            ],
            "metadata": {
                "azdata_cell_guid": "12d92cfd-0878-4abb-a9a3-4702af5ec5f5"
            }
        }
    ]
}