{
    "metadata": {
        "kernelspec": {
            "name": "SQL",
            "display_name": "SQL",
            "language": "sql"
        },
        "language_info": {
            "name": "sql",
            "version": ""
        }
    },
    "nbformat_minor": 2,
    "nbformat": 4,
    "cells": [
        {
            "cell_type": "markdown",
            "source": [
                "# **<u><mark>WHERE CLAUSE</mark></u>**"
            ],
            "metadata": {
                "azdata_cell_guid": "054179b2-43d2-4678-b45f-40cc29d6948c"
            },
            "attachments": {}
        },
        {
            "cell_type": "markdown",
            "source": [
                "Used to filter data"
            ],
            "metadata": {
                "azdata_cell_guid": "a7a494a4-68b7-4fcc-ba63-343702b45ca5"
            }
        },
        {
            "cell_type": "markdown",
            "source": [
                "Returns records only match with specified condition"
            ],
            "metadata": {
                "azdata_cell_guid": "8c531988-1707-49b6-8b8c-9794599ffbd2"
            }
        },
        {
            "cell_type": "code",
            "source": [
                "SELECT *\n",
                "FROM Orders\n",
                "WHERE ShipCountry = 'USA';\n",
                "\n",
                "-- To add a condition we use OPERATORS in a WHERE clause\n",
                "-- EQUAL operator can be used with strings as above but the text must be written between single quotes\n",
                "\n",
                "-- But numeric values don't need quotes\n",
                "SELECT *\n",
                "FROM Orders\n",
                "WHERE EmployeeID = 7;\n",
                "\n",
                "-- Greater Than, Less Than\n",
                "\n",
                "SELECT *\n",
                "FROM Orders\n",
                "WHERE OrderID > 11000;\n",
                "\n",
                "SELECT *\n",
                "FROM Orders\n",
                "WHERE OrderID < 10300;\n",
                "\n",
                "-- Greater Than or Equal, Less Than or Equal\n",
                "\n",
                "SELECT *\n",
                "FROM Orders\n",
                "WHERE OrderID >= 11055;\n",
                "\n",
                "SELECT *\n",
                "FROM Orders\n",
                "WHERE OrderID <= 10266;\n",
                "\n",
                "-- Not Equal\n",
                "\n",
                "SELECT *\n",
                "FROM Orders\n",
                "WHERE ShipVia <> 3;\n",
                "\n",
                "-- To return a certain range BETWEEN operator is used\n",
                "-- Includes the values written in between operator\n",
                "\n",
                "SELECT *\n",
                "FROM Orders\n",
                "WHERE OrderID BETWEEN 10266 AND 10288;\n",
                "\n",
                "-- Searching for a pattern LIKE operator is used\n",
                "\n",
                "SELECT *\n",
                "FROM Orders\n",
                "WHERE OrderID LIKE '103__';\n",
                "\n",
                "-- To search for multiple values from a column IN operator is used\n",
                "\n",
                "SELECT *\n",
                "FROM Orders\n",
                "WHERE CustomerID IN ('QUICK', 'RATTC');\n",
                "\n",
                "-- Adding two conditions is possible by AND Operator, also by OR operator\n",
                "\n",
                "SELECT *\n",
                "FROM Orders\n",
                "WHERE ShipVia <> 3 AND EmployeeID = 8;\n",
                "\n",
                "SELECT *\n",
                "FROM Orders\n",
                "WHERE EmployeeID = 3 OR EmployeeID = 8;"
            ],
            "metadata": {
                "azdata_cell_guid": "878a2ce9-cd09-4383-a410-5d5754c77fde",
                "language": "sql"
            },
            "outputs": [],
            "execution_count": null
        },
        {
            "cell_type": "markdown",
            "source": [
                "these operators and where clause will be detailed later"
            ],
            "metadata": {
                "azdata_cell_guid": "1906550a-e273-40f3-84cb-ad831848b9da"
            }
        },
        {
            "cell_type": "markdown",
            "source": [
                "WHERE clause can also be used with **OTHER STATEMENTS,** not just with select statement"
            ],
            "metadata": {
                "azdata_cell_guid": "4f9b50f8-078a-4756-96a2-2c170e915223"
            },
            "attachments": {}
        }
    ]
}