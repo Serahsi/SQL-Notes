{
    "metadata": {
        "kernelspec": {
            "name": "SQL",
            "display_name": "SQL",
            "language": "sql"
        },
        "language_info": {
            "name": "sql",
            "version": ""
        }
    },
    "nbformat_minor": 2,
    "nbformat": 4,
    "cells": [
        {
            "cell_type": "markdown",
            "source": [
                "# **<u><mark>WHERE CLAUSE</mark></u>**"
            ],
            "metadata": {
                "azdata_cell_guid": "054179b2-43d2-4678-b45f-40cc29d6948c"
            },
            "attachments": {}
        },
        {
            "cell_type": "markdown",
            "source": [
                "<span style=\"color: var(--vscode-foreground);\">Used to filter data</span>\n",
                "\n",
                "Returns records only match with specified condition\n",
                "\n",
                "It is used with OPERATORS\n",
                "\n",
                "WHERE clause is writen after FROM clause"
            ],
            "metadata": {
                "azdata_cell_guid": "8c531988-1707-49b6-8b8c-9794599ffbd2"
            },
            "attachments": {}
        },
        {
            "cell_type": "code",
            "source": [
                "-- Bring Order ID, ShipVia, Ship Name, Ship City and Ship Country of orders whose Ship Country is USA from ORDERS table\n",
                "\n",
                "SELECT OrderID, ShipVia, ShipName, ShipCity, ShipCountry\n",
                "FROM Northwind.dbo.Orders\n",
                "WHERE ShipCountry = 'USA';\n",
                "\n",
                "-- To add a condition we use OPERATORS in a WHERE clause\n",
                "-- EQUAL operator can be used with strings as above but the text must be written between single quotes\n",
                "-- But numeric values don't need quotes\n",
                "\n",
                "-- Bring Order ID, Customer ID, Employee ID, Order Date of orders taken by employee ID 7.\n",
                "\n",
                "SELECT OrderID, CustomerID, EmployeeID, OrderDate\n",
                "FROM Northwind.dbo.Orders\n",
                "WHERE EmployeeID = 7;\n",
                "\n",
                "-- Greater Than >, Less Than <\n",
                "\n",
                "-- Bring details of orders that have an id greater than 11000 \n",
                "\n",
                "SELECT *\n",
                "FROM Northwind.dbo.Orders\n",
                "WHERE OrderID > 11000;\n",
                "\n",
                "-- Bring details of orders that have an id less than than 10300 \n",
                "\n",
                "SELECT *\n",
                "FROM Northwind.dbo.Orders\n",
                "WHERE OrderID < 10300;\n",
                "\n",
                "-- Greater Than or Equal >=, Less Than or Equal <=\n",
                "\n",
                "-- Bring Order ID, Order Date and Shipped Date of orders that have an id greater than or equal to 11055 \n",
                "\n",
                "SELECT OrderID, OrderDate, ShippedDate\n",
                "FROM Northwind.dbo.Orders\n",
                "WHERE OrderID >= 11055;\n",
                "\n",
                "-- Bring Order ID, Order Date, Shipped Date and Ship Country of orders that have an id less than or equal to 10266 \n",
                "\n",
                "SELECT OrderID, OrderDate, ShippedDate, ShipCountry\n",
                "FROM Northwind.dbo.Orders\n",
                "WHERE OrderID <= 10266;\n",
                "\n",
                "-- Not Equal <>\n",
                "\n",
                "-- Bring the details of orders which didn't shipped via 3\n",
                "\n",
                "SELECT *\n",
                "FROM Northwind.dbo.Orders\n",
                "WHERE ShipVia <> 3;\n",
                "\n",
                "-- To return a certain range BETWEEN operator is used\n",
                "-- Includes the values written inside between operator\n",
                "\n",
                "-- Bring the details of orders whose order id are between 10266 and 10288\n",
                "\n",
                "SELECT *\n",
                "FROM Northwind.dbo.Orders\n",
                "WHERE OrderID BETWEEN 10266 AND 10288;\n",
                "\n",
                "-- LIKE operator is used to search for a pattern \n",
                "-- We use wildcards with LIKE operator\n",
                "-- '%' is used for any character and any number of characters\n",
                "-- '_' is used for just one character but it can replace any character\n",
                "\n",
                "-- Bring the details of orders that are shipped to the cities that starts with 'm'\n",
                "\n",
                "SELECT *\n",
                "FROM Northwind.dbo.Orders\n",
                "WHERE ShipCity LIKE 'm%';\n",
                "\n",
                "-- Bring the details of orders whose order id starts with 1037\n",
                "\n",
                "SELECT *\n",
                "FROM Northwind.dbo.Orders\n",
                "WHERE OrderID LIKE '1037_';\n",
                "\n",
                "-- IN operator is used to search for multiple values in a column \n",
                "\n",
                "-- Bring the details of orders whose Customer id is 'QUICK' and 'RATTC'\n",
                "\n",
                "SELECT *\n",
                "FROM Northwind.dbo.Orders\n",
                "WHERE CustomerID IN ('QUICK', 'RATTC');\n",
                "\n",
                "-- By AND & OR operators adding two or more conditions is possible \n",
                "-- AND operator means ALL the conditions are TRUE\n",
                "-- OR Operator means ANY of the conditions are TRUE\n",
                "\n",
                "-- Bring the details of orders which are not shipped via 3 and taken by employee id 8\n",
                "\n",
                "SELECT *\n",
                "FROM Northwind.dbo.Orders\n",
                "WHERE ShipVia <> 3 AND EmployeeID = 8;\n",
                "\n",
                "-- Bring the details of orders taken by employee id 3 or employee id 8\n",
                "\n",
                "SELECT *\n",
                "FROM Northwind.dbo.Orders\n",
                "WHERE EmployeeID = 3 OR EmployeeID = 8;"
            ],
            "metadata": {
                "azdata_cell_guid": "878a2ce9-cd09-4383-a410-5d5754c77fde",
                "language": "sql"
            },
            "outputs": [],
            "execution_count": null
        },
        {
            "cell_type": "markdown",
            "source": [
                "These operators, where clause and wildcards will be detailed later"
            ],
            "metadata": {
                "azdata_cell_guid": "1906550a-e273-40f3-84cb-ad831848b9da"
            },
            "attachments": {}
        },
        {
            "cell_type": "markdown",
            "source": [
                "WHERE clause can also be used with **OTHER STATEMENTS,** not just with select statement"
            ],
            "metadata": {
                "azdata_cell_guid": "4f9b50f8-078a-4756-96a2-2c170e915223"
            },
            "attachments": {}
        }
    ]
}