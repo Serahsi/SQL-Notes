{
    "metadata": {
        "kernelspec": {
            "name": "SQL",
            "display_name": "SQL",
            "language": "sql"
        },
        "language_info": {
            "name": "sql",
            "version": ""
        }
    },
    "nbformat_minor": 2,
    "nbformat": 4,
    "cells": [
        {
            "cell_type": "markdown",
            "source": [
                "# **<mark><u>WILDCARDS and LIKE Operator</u></mark>**"
            ],
            "metadata": {
                "azdata_cell_guid": "d408b718-7df8-4289-b8f4-cc1fee8e8e16"
            },
            "attachments": {}
        },
        {
            "cell_type": "markdown",
            "source": [
                "Wildcards are substitute characters"
            ],
            "metadata": {
                "azdata_cell_guid": "888480be-20a0-4aed-a6d2-efc9d0aab987"
            }
        },
        {
            "cell_type": "markdown",
            "source": [
                "They can replace one or more character"
            ],
            "metadata": {
                "azdata_cell_guid": "89ecbe77-e7af-40fe-80ae-378c1c1ca252"
            }
        },
        {
            "cell_type": "markdown",
            "source": [
                "Wildcards are used with LIKE operator"
            ],
            "metadata": {
                "azdata_cell_guid": "351d70e3-9b22-448c-971c-09dd310829d3"
            }
        },
        {
            "cell_type": "markdown",
            "source": [
                "% wildcard represent zero or more characters"
            ],
            "metadata": {
                "azdata_cell_guid": "5b7f81e3-a11b-43ab-891d-6f03edd957aa"
            }
        },
        {
            "cell_type": "code",
            "source": [
                "/* Retrieve all datas where Contact Title starts with 'S' from SuUPPLIERS table*/\n",
                "\n",
                "SELECT *\n",
                "FROM Suppliers\n",
                "WHERE ContactTitle LIKE 'S%';\n",
                "\n",
                "-- Retrieve all datas where contact title includes 'Manager'\n",
                "\n",
                "SELECT *\n",
                "FROM Suppliers\n",
                "WHERE ContactTitle LIKE '%Manager%';\n",
                "\n",
                "-- Retrieve all datas where contact title does NOT include 'Manager'\n",
                "-- NOT operator gives the opposite result with combination LIKE\n",
                "\n",
                "SELECT *\n",
                "FROM Suppliers\n",
                "WHERE ContactTitle NOT LIKE '%Manager%';\n",
                "\n",
                "-- Retrieve all datas where contact title includes 'Manager' OR 'Mgr'\n",
                "\n",
                "SELECT *\n",
                "FROM Suppliers\n",
                "WHERE ContactTitle LIKE '%Manager%' OR ContactTitle LIKE '%Mgr%';\n",
                "\n",
                "-- There will be an error when we try to combine two conditions in one LIKE keyword\n",
                "-- We have to add another LIKE keyword as above\n",
                "\n",
                "SELECT *\n",
                "FROM Suppliers\n",
                "--WHERE ContactTitle LIKE '%Manager%' OR '%Mgr%';\n",
                "\n",
                "-- Retrieve contact titles where contact title includes 'Marketing' OR 'Representative'\n",
                "\n",
                "SELECT ContactTitle\n",
                "FROM Suppliers\n",
                "WHERE ContactTitle LIKE '%marketing%' OR ContactTitle LIKE '%representative%';\n",
                "\n",
                "-- Retrieve contact titles where contact title includes 'Marketing' AND 'Representative'\n",
                "\n",
                "SELECT ContactTitle\n",
                "FROM Suppliers\n",
                "WHERE ContactTitle LIKE '%marketing%' AND ContactTitle LIKE '%representative%';\n",
                "\n",
                "-- Retrieve all datas where company name ENDS WITH 'Ltd.'\n",
                "\n",
                "SELECT *\n",
                "FROM Suppliers\n",
                "WHERE CompanyName LIKE '%Ltd.';\n",
                "\n",
                "------------------------------------------\n",
                "-- _ wilcard represents one character\n",
                "\n",
                "SELECT *\n",
                "FROM Suppliers\n",
                "WHERE Country LIKE 'U_';\n",
                "\n",
                "-- We can use MULTPLE _ wildcards\n",
                "\n",
                "SELECT *\n",
                "FROM Suppliers\n",
                "WHERE Country LIKE 'U__';\n",
                "\n",
                "SELECT *\n",
                "FROM Suppliers\n",
                "WHERE City LIKE '____on';\n",
                "\n",
                "--------------------------------\n",
                "-- [] wildcard represents all the characters in the brackets\n",
                "\n",
                "-- Return all data where contact title STARTS WITH 'a', 'w' and 's' letters\n",
                "\n",
                "SELECT *\n",
                "FROM Suppliers\n",
                "WHERE ContactTitle LIKE '[aws]%';\n",
                "\n",
                "-- We use - wildcard within brackets to specify a range\n",
                "\n",
                "SELECT *\n",
                "FROM Suppliers\n",
                "WHERE CompanyName LIKE '[e-l]%'\n",
                "ORDER BY CompanyName;\n",
                "\n",
                "-- Retrieve addresses starting with NUMERIC values\n",
                "\n",
                "SELECT Address\n",
                "FROM Suppliers\n",
                "WHERE Address LIKE '[0-9]%';\n",
                "\n",
                "-- We use ^ wildcard to eliminate the characters in the brackets\n",
                "-- Retrieve addresses NOT starting with numeric values\n",
                "\n",
                "SELECT Address\n",
                "FROM Suppliers\n",
                "WHERE Address LIKE '[^0-9]%';\n",
                "\n",
                "SELECT Address\n",
                "FROM Suppliers\n",
                "WHERE Address NOT LIKE '[0-9]%';\n",
                "\n",
                "-- Retrieve contact titles starting with 'sales' and addresses NOT starting with numeric values, and cities\n",
                "\n",
                "SELECT ContactTitle, Address, City\n",
                "FROM Suppliers\n",
                "WHERE ContactTitle LIKE 'Sales%' AND Address LIKE '[^0-9]%';\n",
                "\n",
                "-- Retrieve contact titles NOT starting with 'sales' and addresses starting with numeric values, and cities\n",
                "\n",
                "SELECT ContactTitle, Address, City\n",
                "FROM Suppliers\n",
                "WHERE ContactTitle NOT LIKE 'Sales%' AND Address LIKE '[0-9]%';\n",
                "\n",
                "-- A contact from one of our SUPPLIERS called me today. His last name ends with 'SON' or 'SEN' and his title was 'SALES' something, I cannot remember all the details.\n",
                "-- Can you find me the person, please. Send me also company name, country and phone number.\n",
                "\n",
                "SELECT CompanyName, ContactName, ContactTitle, Phone, Country\n",
                "FROM Suppliers\n",
                "WHERE ContactName LIKE '%s_n' AND ContactTitle LIKE '%Sales%';\n",
                "\n",
                "-- One week ago a contact from our CUSTOMERS called me. Name was Mary, Marie, Maria, Mariana or Mariah. Supposed to be 'OWNER' and possibly from 'FRANCE'.\n",
                "-- Make me two lists. Make the first list according to name conditions. I am sure name was one of them. Add company name, contact name, title, city, country and phone number please.\n",
                "-- Include title and country conditions to the second list.   \n",
                "\n",
                "SELECT CompanyName, ContactName, ContactTitle, City, Country, Phone\n",
                "FROM Customers\n",
                "WHERE ContactName LIKE 'Mar%';\n",
                "\n",
                "SELECT CompanyName, ContactName, ContactTitle, City, Country, Phone\n",
                "FROM Customers\n",
                "WHERE ContactName LIKE 'Mar%' AND ContactTitle LIKE '%owner%' AND Country = 'France';\n",
                "\n",
                "\n",
                "-- There was a company from our CUSTOMERS, ends with 'dos, das, des, dis' something like that.\n",
                "-- The contact had a TITLE sth about 'SALES'\n",
                "-- COUNTRY was Brazil or France, CITY Sao Paulo or Saint Etienne\n",
                "\n",
                "SELECT *\n",
                "FROM Customers\n",
                "WHERE CompanyName LIKE '%d_s' AND ContactTitle LIKE '%sales%'\n",
                "AND (Country ='Brazil' AND City = 'Sao Paulo') OR (Country = 'France' AND City = 'Saint Etienne');"
            ],
            "metadata": {
                "azdata_cell_guid": "c9d6b40e-5288-44d6-84be-eb395626a0e4",
                "language": "sql"
            },
            "outputs": [],
            "execution_count": null
        }
    ]
}